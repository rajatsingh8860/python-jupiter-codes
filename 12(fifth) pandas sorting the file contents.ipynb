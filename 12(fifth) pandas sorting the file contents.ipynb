{
 "cells": [
  {
   "cell_type": "code",
   "execution_count": 2,
   "metadata": {},
   "outputs": [
    {
     "data": {
      "text/plain": [
       "0      rajat\n",
       "1     shivam\n",
       "2    parvesh\n",
       "3    bhaskar\n",
       "4    shubham\n",
       "5     rahul \n",
       "6      ankit\n",
       "7       ajay\n",
       "8     roshan\n",
       "Name: Name, dtype: object"
      ]
     },
     "execution_count": 2,
     "metadata": {},
     "output_type": "execute_result"
    }
   ],
   "source": [
    "import pandas as pd\n",
    "pd.read_csv('studentmarks.csv',squeeze=True,usecols=['Name'])"
   ]
  },
  {
   "cell_type": "code",
   "execution_count": 3,
   "metadata": {},
   "outputs": [
    {
     "data": {
      "text/plain": [
       "7       ajay\n",
       "6      ankit\n",
       "3    bhaskar\n",
       "2    parvesh\n",
       "5     rahul \n",
       "0      rajat\n",
       "8     roshan\n",
       "1     shivam\n",
       "4    shubham\n",
       "Name: Name, dtype: object"
      ]
     },
     "execution_count": 3,
     "metadata": {},
     "output_type": "execute_result"
    }
   ],
   "source": [
    "google=pd.read_csv('studentmarks.csv',squeeze=True,usecols=['Name'])\n",
    "google.sort_values()"
   ]
  },
  {
   "cell_type": "code",
   "execution_count": 4,
   "metadata": {},
   "outputs": [
    {
     "data": {
      "text/plain": [
       "4    shubham\n",
       "1     shivam\n",
       "8     roshan\n",
       "0      rajat\n",
       "5     rahul \n",
       "2    parvesh\n",
       "3    bhaskar\n",
       "6      ankit\n",
       "7       ajay\n",
       "Name: Name, dtype: object"
      ]
     },
     "execution_count": 4,
     "metadata": {},
     "output_type": "execute_result"
    }
   ],
   "source": [
    "google=pd.read_csv('studentmarks.csv',squeeze=True,usecols=['Name'])\n",
    "google.sort_values(ascending=False)"
   ]
  }
 ],
 "metadata": {
  "kernelspec": {
   "display_name": "Python 3",
   "language": "python",
   "name": "python3"
  },
  "language_info": {
   "codemirror_mode": {
    "name": "ipython",
    "version": 3
   },
   "file_extension": ".py",
   "mimetype": "text/x-python",
   "name": "python",
   "nbconvert_exporter": "python",
   "pygments_lexer": "ipython3",
   "version": "3.7.3"
  }
 },
 "nbformat": 4,
 "nbformat_minor": 2
}
