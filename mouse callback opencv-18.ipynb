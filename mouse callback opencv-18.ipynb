{
 "cells": [
  {
   "cell_type": "code",
   "execution_count": 9,
   "metadata": {},
   "outputs": [],
   "source": [
    "import cv2\n",
    "import numpy as np"
   ]
  },
  {
   "cell_type": "code",
   "execution_count": 10,
   "metadata": {},
   "outputs": [],
   "source": [
    "window_name=\"Drawing\"\n",
    "img=np.zeros((512,512,3),np.uint8)\n",
    "cv2.namedWindow(window_name)\n",
    "def draw_circle(event,x,y,flag,param):\n",
    "    if event == cv2.EVENT_LBUTTONDBLCLK:\n",
    "        cv2.circle(img,(x,y),40,(0,255,0),-1)\n",
    "    \n",
    "    if event == cv2.EVENT_RBUTTONDOWN:\n",
    "        cv2.circle(img,(x,y),70,(255,0,0),-1)\n",
    "        \n",
    "cv2.setMouseCallback(window_name,draw_circle)\n",
    "\n",
    "while True:\n",
    "    cv2.imshow(window_name,img)\n",
    "    if cv2.waitKey(1)==13:\n",
    "        break\n",
    "        \n",
    "cv2.destroyAllWindows()    \n",
    "   "
   ]
  },
  {
   "cell_type": "code",
   "execution_count": null,
   "metadata": {},
   "outputs": [],
   "source": []
  }
 ],
 "metadata": {
  "kernelspec": {
   "display_name": "Python 3",
   "language": "python",
   "name": "python3"
  },
  "language_info": {
   "codemirror_mode": {
    "name": "ipython",
    "version": 3
   },
   "file_extension": ".py",
   "mimetype": "text/x-python",
   "name": "python",
   "nbconvert_exporter": "python",
   "pygments_lexer": "ipython3",
   "version": "3.7.3"
  }
 },
 "nbformat": 4,
 "nbformat_minor": 2
}
